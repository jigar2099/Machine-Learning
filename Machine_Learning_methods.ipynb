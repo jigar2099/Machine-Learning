{
  "nbformat": 4,
  "nbformat_minor": 0,
  "metadata": {
    "accelerator": "GPU",
    "colab": {
      "name": "Machine_Learning_methods.ipynb",
      "provenance": [],
      "collapsed_sections": [],
      "machine_shape": "hm",
      "include_colab_link": true
    },
    "kernelspec": {
      "display_name": "Python 3",
      "name": "python3"
    },
    "language_info": {
      "name": "python"
    }
  },
  "cells": [
    {
      "cell_type": "markdown",
      "metadata": {
        "id": "view-in-github",
        "colab_type": "text"
      },
      "source": [
        "<a href=\"https://colab.research.google.com/github/jigar2099/Machine-Learning/blob/main/Machine_Learning_methods.ipynb\" target=\"_parent\"><img src=\"https://colab.research.google.com/assets/colab-badge.svg\" alt=\"Open In Colab\"/></a>"
      ]
    },
    {
      "cell_type": "code",
      "metadata": {
        "colab": {
          "base_uri": "https://localhost:8080/"
        },
        "id": "wrgDUgxGW_4w",
        "outputId": "4df99fd7-a126-47ee-8a75-218474375aa4"
      },
      "source": [
        "# This run is for ch0 sequential model config finding\n",
        "!unzip 1000.zip"
      ],
      "execution_count": 2,
      "outputs": [
        {
          "output_type": "stream",
          "name": "stdout",
          "text": [
            "Archive:  1000.zip\n",
            "   creating: 1000/samp_same/\n",
            "   creating: 1000/samp_same/.ipynb_checkpoints/\n",
            "  inflating: 1000/samp_same/.ipynb_checkpoints/file_alloter_conv-checkpoint.ipynb  \n",
            "  inflating: 1000/samp_same/.ipynb_checkpoints/file_alloter_LSTM-checkpoint.ipynb  \n",
            "  inflating: 1000/samp_same/.ipynb_checkpoints/lstm_visualizations-checkpoint.ipynb  \n",
            "  inflating: 1000/samp_same/.ipynb_checkpoints/lstm_visualizations-normed-checkpoint.ipynb  \n",
            "  inflating: 1000/samp_same/.ipynb_checkpoints/LSTM-GRU_CNN_model_feature_map-checkpoint.ipynb  \n",
            "  inflating: 1000/samp_same/.ipynb_checkpoints/MC_data_generator-Copy1-checkpoint.ipynb  \n",
            "  inflating: 1000/samp_same/.ipynb_checkpoints/resnet_block_creation-checkpoint.ipynb  \n",
            "  inflating: 1000/samp_same/.ipynb_checkpoints/single_model_save_CNN-checkpoint.ipynb  \n",
            "  inflating: 1000/samp_same/.ipynb_checkpoints/transmittance-2_conv_data-checkpoint.ipynb  \n",
            "  inflating: 1000/samp_same/.ipynb_checkpoints/transmittance-2_conv_target-checkpoint.ipynb  \n",
            "  inflating: 1000/samp_same/.ipynb_checkpoints/transmittance-2_conv-checkpoint.ipynb  \n",
            "  inflating: 1000/samp_same/.ipynb_checkpoints/transmittance-2_LSTM-checkpoint.ipynb  \n",
            "  inflating: 1000/samp_same/cnn_loop.ipynb  \n",
            "  inflating: 1000/samp_same/cnn_loop.py  \n",
            "  inflating: 1000/samp_same/file_alloter.py  \n",
            "  inflating: 1000/samp_same/MC_data_generator-Copy1.ipynb  \n",
            "  inflating: 1000/samp_same/resnet_block_creation.ipynb  \n",
            "  inflating: 1000/samp_same/test_X.npy  \n",
            "  inflating: 1000/samp_same/test_y_pp.npy  \n",
            "  inflating: 1000/samp_same/test_y_r.npy  \n",
            "  inflating: 1000/samp_same/train_X.npy  \n",
            "  inflating: 1000/samp_same/train_y_pp.npy  \n",
            "  inflating: 1000/samp_same/train_y_r.npy  \n",
            "  inflating: 1000/samp_same/transmittance_rate.ipynb  \n",
            "  inflating: 1000/samp_same/transmittance-2_conv.ipynb  \n",
            "  inflating: 1000/samp_same/transmittance-2_conv_data.ipynb  \n",
            "  inflating: 1000/samp_same/transmittance-2_conv_target.ipynb  \n",
            "  inflating: 1000/samp_same/transmittance-2_LSTM.ipynb  \n",
            "  inflating: 1000/samp_same/trial-1.gif  \n",
            "  inflating: 1000/samp_same/val_X.npy  \n",
            "  inflating: 1000/samp_same/val_y_pp.npy  \n",
            "  inflating: 1000/samp_same/val_y_r.npy  \n",
            "  inflating: 1000/samp_same/with_and_without_norm.png  \n",
            "  inflating: 1000/samp_same/x_test.npy  \n",
            "  inflating: 1000/samp_same/x_train.npy  \n",
            "  inflating: 1000/samp_same/x_val.npy  \n"
          ]
        }
      ]
    },
    {
      "cell_type": "code",
      "metadata": {
        "id": "QiiJfhUzVVB7"
      },
      "source": [
        "#import shutil\n",
        "\n",
        "#shutil.rmtree('/content/1000/')"
      ],
      "execution_count": null,
      "outputs": []
    },
    {
      "cell_type": "code",
      "metadata": {
        "colab": {
          "base_uri": "https://localhost:8080/",
          "height": 17
        },
        "id": "-HvscFzud7Xw",
        "outputId": "a3011b72-24a0-4fe7-b9ac-ea8850af34f1"
      },
      "source": [
        "from IPython.core.display import display, HTML\n",
        "display(HTML(\"<style>.container { width:100% !important;}</style>\"))\n",
        "import sys\n",
        "import pickle\n",
        "import numpy as np\n",
        "import matplotlib.pyplot as plt\n",
        "import pandas as pd\n",
        "import seaborn as sns\n",
        "from scipy.signal import find_peaks\n",
        "from sklearn.utils import shuffle\n",
        "#sns.set(style='darkgrid')\n",
        "#from talos.utils import lr_normalizer\n",
        "import keras\n",
        "import tensorflow as tf\n",
        "#from keras_self_attention import SeqSelfAttention\n",
        "import tensorflow as tf\n",
        "from tensorflow import Tensor\n",
        "from tensorflow.keras.callbacks import TensorBoard\n",
        "from keras.preprocessing.text import one_hot, Tokenizer\n",
        "from keras import backend as K\n",
        "from keras.models import Sequential, Model\n",
        "from keras.layers import Dropout, Dense,GRU, Activation, Flatten, Reshape, BatchNormalization, Input, add, GlobalAveragePooling1D, Bidirectional, LSTM, TimeDistributed, RepeatVector#, Attentionn\n",
        "from keras.layers.convolutional import Conv1D, MaxPooling1D, UpSampling1D, ZeroPadding1D, Conv2D, MaxPooling2D, UpSampling2D, ZeroPadding2D, AveragePooling1D\n",
        "from keras.regularizers import l1, l2\n",
        "from keras.utils import np_utils\n",
        "from tensorflow.keras.optimizers import Adam, SGD, Adagrad, RMSprop\n",
        "RMSE=tf.keras.metrics.RootMeanSquaredError(name='RMse', dtype=None)\n",
        "from keras.layers import LeakyReLU, ReLU, Add\n",
        "from tensorflow.keras.layers import Attention\n",
        "adam=Adam(learning_rate=0.0001)\n",
        "#adagrad=Adam(learning_rate=0.001)\n",
        "sgd=SGD(learning_rate=0.01, momentum=0.5)\n",
        "from sklearn import datasets, linear_model\n",
        "from sklearn.model_selection import cross_val_score, KFold\n",
        "from sklearn.metrics import accuracy_score\n",
        "from keras.wrappers.scikit_learn import KerasRegressor\n",
        "#from keras.losses import huber_loss\n",
        "#rmse=tf.keras.metrics.RootMeanSquaredError(name='root_mean_squared_error', dtype=None)\n",
        "def rmse(y_true, y_pred):\n",
        "    return K.sqrt(K.mean(K.square(y_pred - y_true)))\n",
        "l = tf.keras.regularizers.l2(1e-10)"
      ],
      "execution_count": 3,
      "outputs": [
        {
          "output_type": "display_data",
          "data": {
            "text/html": [
              "<style>.container { width:100% !important;}</style>"
            ],
            "text/plain": [
              "<IPython.core.display.HTML object>"
            ]
          },
          "metadata": {}
        }
      ]
    },
    {
      "cell_type": "code",
      "metadata": {
        "id": "7dJd7OmeeDqu"
      },
      "source": [
        ""
      ],
      "execution_count": null,
      "outputs": []
    },
    {
      "cell_type": "code",
      "metadata": {
        "id": "U9YU_9GIehYM"
      },
      "source": [
        "train_X = np.load('./1000/samp_same/train_X.npy')\n",
        "#train_y_pp = np.load('./1000 - Copy/samp_same/train_y_pp.npy')\n",
        "train_y_r = np.load('./1000/samp_same/train_y_r.npy')\n",
        "\n",
        "#test_X = np.load('./1000/test_X.npy')\n",
        "#test_y_r = np.load('./1000/test_y_r.npy')\n",
        "\n",
        "val_X = np.load('./1000/samp_same/val_X.npy')\n",
        "#val_y_pp = np.load('./1000 - Copy/samp_same/val_y_pp.npy')\n",
        "val_y_r = np.load('./1000/samp_same/val_y_r.npy')"
      ],
      "execution_count": 4,
      "outputs": []
    },
    {
      "cell_type": "code",
      "metadata": {
        "id": "hP0B2vFbe_oL"
      },
      "source": [
        "train_X = train_X/np.max(train_X)\n",
        "#test_X = test_X/np.max(test_X)\n",
        "val_X = val_X/np.max(val_X)"
      ],
      "execution_count": 5,
      "outputs": []
    },
    {
      "cell_type": "code",
      "metadata": {
        "id": "MlLZDHSUfIMh"
      },
      "source": [
        "# training\n",
        "train_X = train_X.reshape(np.int(train_X.shape[0]/1000),1000, 1)\n",
        "train_y_r = train_y_r.reshape(train_y_r.shape[0],1)\n",
        "\n",
        "# validation\n",
        "val_X = val_X.reshape(np.int(val_X.shape[0]/1000),1000, 1)\n",
        "val_y_r = val_y_r.reshape(val_y_r.shape[0],1)"
      ],
      "execution_count": 6,
      "outputs": []
    },
    {
      "cell_type": "code",
      "metadata": {
        "colab": {
          "base_uri": "https://localhost:8080/"
        },
        "id": "5OlsWODcfZR4",
        "outputId": "6201d93a-8dc3-4d91-acb7-a56463ca5c42"
      },
      "source": [
        "print(\"training samples :\",train_X.shape[0])\n",
        "print(\"validation samples :\",val_X.shape[0])"
      ],
      "execution_count": 7,
      "outputs": [
        {
          "output_type": "stream",
          "name": "stdout",
          "text": [
            "training samples : 161000\n",
            "validation samples : 80500\n"
          ]
        }
      ]
    },
    {
      "cell_type": "markdown",
      "metadata": {
        "id": "-3j5QLdbzOP3"
      },
      "source": [
        "# ***Machine Learning methods***\n",
        "### **Method-1:** *Linear and Logistic regression*"
      ]
    },
    {
      "cell_type": "code",
      "metadata": {
        "colab": {
          "base_uri": "https://localhost:8080/"
        },
        "id": "jyZmwJyhz8uh",
        "outputId": "dd2f187a-a25f-489f-f860-53a665029238"
      },
      "source": [
        "from sklearn.linear_model import LinearRegression, LogisticRegression\n",
        "\n",
        "# Reshape the required input shapes\n",
        "# training\n",
        "train_X = train_X.reshape(train_X.shape[0],1000)\n",
        "train_y_r = train_y_r.reshape(train_y_r.shape[0],1)\n",
        "\n",
        "# validation\n",
        "val_X = val_X.reshape(val_X.shape[0],1000)\n",
        "val_y_r = val_y_r.reshape(val_y_r.shape[0],1)\n",
        "\n",
        "# Linear regression\n",
        "linear_reg_model = LinearRegression().fit(train_X,train_y_r)\n",
        "file_name = 'linear_regression_model.sav'\n",
        "pickle.dump(linear_reg_model,open('./ML_models/'+file_name, 'wb'))\n",
        "# Logistic regression\n",
        "logistic_reg_model = LogisticRegression().fit(train_X,train_y_r)\n",
        "file_name = 'logistic_regression_model.sav'\n",
        "pickle.dump(logistic_reg_model,open('./ML_models/'+file_name, 'wb'))"
      ],
      "execution_count": 17,
      "outputs": [
        {
          "output_type": "stream",
          "name": "stderr",
          "text": [
            "/usr/local/lib/python3.7/dist-packages/sklearn/utils/validation.py:760: DataConversionWarning: A column-vector y was passed when a 1d array was expected. Please change the shape of y to (n_samples, ), for example using ravel().\n",
            "  y = column_or_1d(y, warn=True)\n",
            "/usr/local/lib/python3.7/dist-packages/sklearn/linear_model/_logistic.py:940: ConvergenceWarning: lbfgs failed to converge (status=1):\n",
            "STOP: TOTAL NO. of ITERATIONS REACHED LIMIT.\n",
            "\n",
            "Increase the number of iterations (max_iter) or scale the data as shown in:\n",
            "    https://scikit-learn.org/stable/modules/preprocessing.html\n",
            "Please also refer to the documentation for alternative solver options:\n",
            "    https://scikit-learn.org/stable/modules/linear_model.html#logistic-regression\n",
            "  extra_warning_msg=_LOGISTIC_SOLVER_CONVERGENCE_MSG)\n"
          ]
        }
      ]
    },
    {
      "cell_type": "markdown",
      "metadata": {
        "id": "RaS7A3MS8WKd"
      },
      "source": [
        "### **Method-2:** *Decision Tree*\n",
        "\n",
        "Decision trees are more prone to catch non-linear features in the data.\n",
        "It somewhat match human level thinking to understand the data.\n",
        "\n"
      ]
    },
    {
      "cell_type": "code",
      "metadata": {
        "colab": {
          "base_uri": "https://localhost:8080/"
        },
        "id": "0lFuKCvs112c",
        "outputId": "c01620ee-4cd6-48e7-c2ef-54c4642c6e16"
      },
      "source": [
        "from sklearn.tree import DecisionTreeRegressor\n",
        "\n",
        "# Creat regressor model\n",
        "for d in [int(1),int(2),int(4),int(8),int(16),int(32),int(64),int(128),int(256),int(512),int(768),int(1024),int(2048),int(4096)]:\n",
        "  print('start : ',d)\n",
        "  dec_reg_model = DecisionTreeRegressor(max_depth=d).fit(train_X,train_y_r)\n",
        "  file_name = 'decision_tree_regressor_depth-{}.sav'.format(d)\n",
        "  pickle.dump(dec_reg_model,open('./ML_models/Decision_tree_regressor/'+file_name, 'wb'))\n",
        "  print('end : ',d)"
      ],
      "execution_count": 18,
      "outputs": [
        {
          "output_type": "stream",
          "name": "stdout",
          "text": [
            "start :  1\n",
            "end :  1\n",
            "start :  2\n",
            "end :  2\n",
            "start :  4\n",
            "end :  4\n",
            "start :  8\n",
            "end :  8\n",
            "start :  16\n",
            "end :  16\n",
            "start :  32\n",
            "end :  32\n",
            "start :  64\n",
            "end :  64\n",
            "start :  128\n",
            "end :  128\n",
            "start :  256\n",
            "end :  256\n",
            "start :  512\n",
            "end :  512\n",
            "start :  768\n",
            "end :  768\n",
            "start :  1024\n",
            "end :  1024\n",
            "start :  2048\n",
            "end :  2048\n",
            "start :  4096\n",
            "end :  4096\n"
          ]
        }
      ]
    },
    {
      "cell_type": "markdown",
      "metadata": {
        "id": "E0lQB-KMEmP3"
      },
      "source": [
        " *Decision tree with AdaBoost regressor*"
      ]
    },
    {
      "cell_type": "code",
      "metadata": {
        "colab": {
          "base_uri": "https://localhost:8080/"
        },
        "id": "5a4cEMK_Emrp",
        "outputId": "abdc7bb8-a271-4b57-b83e-88d863e7484d"
      },
      "source": [
        "from sklearn.ensemble import AdaBoostRegressor\n",
        "\n",
        "for d in [int(1),int(2),int(4),int(8),int(16),int(32),int(64),int(128),int(256),int(512),int(768),int(1024),int(2048),int(4096)]:\n",
        "  for n_trees in [2,4,8,16,32,64,128,256,512]:\n",
        "    for lr in ['1','1e-1','1e-2','1e-3']:\n",
        "      file_name = 'adaboost_tree_regressor_depth-{}_estimator-{}_lr-{}.sav'.format(d,n_trees,lr)\n",
        "      print(file_name)\n",
        "      adaboost_regressor = AdaBoostRegressor(DecisionTreeRegressor(max_depth=d), \n",
        "                                            n_estimators= n_trees, random_state=1, learning_rate=float(lr)).fit(train_X,train_y_r)\n",
        "      pickle.dump(adaboost_regressor,open('./ML_models/AdaBoost_decision_tree_regressor/'+file_name, 'wb'))\n"
      ],
      "execution_count": null,
      "outputs": [
        {
          "output_type": "stream",
          "name": "stdout",
          "text": [
            "adaboost_tree_regressor_depth-1_estimator-2_lr-1.sav\n"
          ]
        },
        {
          "output_type": "stream",
          "name": "stderr",
          "text": [
            "/usr/local/lib/python3.7/dist-packages/sklearn/utils/validation.py:760: DataConversionWarning: A column-vector y was passed when a 1d array was expected. Please change the shape of y to (n_samples, ), for example using ravel().\n",
            "  y = column_or_1d(y, warn=True)\n"
          ]
        },
        {
          "output_type": "stream",
          "name": "stdout",
          "text": [
            "adaboost_tree_regressor_depth-1_estimator-2_lr-1e-1.sav\n"
          ]
        },
        {
          "output_type": "stream",
          "name": "stderr",
          "text": [
            "/usr/local/lib/python3.7/dist-packages/sklearn/utils/validation.py:760: DataConversionWarning: A column-vector y was passed when a 1d array was expected. Please change the shape of y to (n_samples, ), for example using ravel().\n",
            "  y = column_or_1d(y, warn=True)\n"
          ]
        },
        {
          "output_type": "stream",
          "name": "stdout",
          "text": [
            "adaboost_tree_regressor_depth-1_estimator-2_lr-1e-2.sav\n"
          ]
        },
        {
          "output_type": "stream",
          "name": "stderr",
          "text": [
            "/usr/local/lib/python3.7/dist-packages/sklearn/utils/validation.py:760: DataConversionWarning: A column-vector y was passed when a 1d array was expected. Please change the shape of y to (n_samples, ), for example using ravel().\n",
            "  y = column_or_1d(y, warn=True)\n"
          ]
        },
        {
          "output_type": "stream",
          "name": "stdout",
          "text": [
            "adaboost_tree_regressor_depth-1_estimator-2_lr-1e-3.sav\n"
          ]
        },
        {
          "output_type": "stream",
          "name": "stderr",
          "text": [
            "/usr/local/lib/python3.7/dist-packages/sklearn/utils/validation.py:760: DataConversionWarning: A column-vector y was passed when a 1d array was expected. Please change the shape of y to (n_samples, ), for example using ravel().\n",
            "  y = column_or_1d(y, warn=True)\n"
          ]
        },
        {
          "output_type": "stream",
          "name": "stdout",
          "text": [
            "adaboost_tree_regressor_depth-1_estimator-4_lr-1.sav\n"
          ]
        },
        {
          "output_type": "stream",
          "name": "stderr",
          "text": [
            "/usr/local/lib/python3.7/dist-packages/sklearn/utils/validation.py:760: DataConversionWarning: A column-vector y was passed when a 1d array was expected. Please change the shape of y to (n_samples, ), for example using ravel().\n",
            "  y = column_or_1d(y, warn=True)\n"
          ]
        },
        {
          "output_type": "stream",
          "name": "stdout",
          "text": [
            "adaboost_tree_regressor_depth-1_estimator-4_lr-1e-1.sav\n"
          ]
        },
        {
          "output_type": "stream",
          "name": "stderr",
          "text": [
            "/usr/local/lib/python3.7/dist-packages/sklearn/utils/validation.py:760: DataConversionWarning: A column-vector y was passed when a 1d array was expected. Please change the shape of y to (n_samples, ), for example using ravel().\n",
            "  y = column_or_1d(y, warn=True)\n"
          ]
        },
        {
          "output_type": "stream",
          "name": "stdout",
          "text": [
            "adaboost_tree_regressor_depth-1_estimator-4_lr-1e-2.sav\n"
          ]
        },
        {
          "output_type": "stream",
          "name": "stderr",
          "text": [
            "/usr/local/lib/python3.7/dist-packages/sklearn/utils/validation.py:760: DataConversionWarning: A column-vector y was passed when a 1d array was expected. Please change the shape of y to (n_samples, ), for example using ravel().\n",
            "  y = column_or_1d(y, warn=True)\n"
          ]
        },
        {
          "output_type": "stream",
          "name": "stdout",
          "text": [
            "adaboost_tree_regressor_depth-1_estimator-4_lr-1e-3.sav\n"
          ]
        },
        {
          "output_type": "stream",
          "name": "stderr",
          "text": [
            "/usr/local/lib/python3.7/dist-packages/sklearn/utils/validation.py:760: DataConversionWarning: A column-vector y was passed when a 1d array was expected. Please change the shape of y to (n_samples, ), for example using ravel().\n",
            "  y = column_or_1d(y, warn=True)\n"
          ]
        },
        {
          "output_type": "stream",
          "name": "stdout",
          "text": [
            "adaboost_tree_regressor_depth-1_estimator-8_lr-1.sav\n"
          ]
        },
        {
          "output_type": "stream",
          "name": "stderr",
          "text": [
            "/usr/local/lib/python3.7/dist-packages/sklearn/utils/validation.py:760: DataConversionWarning: A column-vector y was passed when a 1d array was expected. Please change the shape of y to (n_samples, ), for example using ravel().\n",
            "  y = column_or_1d(y, warn=True)\n"
          ]
        },
        {
          "output_type": "stream",
          "name": "stdout",
          "text": [
            "adaboost_tree_regressor_depth-1_estimator-8_lr-1e-1.sav\n"
          ]
        },
        {
          "output_type": "stream",
          "name": "stderr",
          "text": [
            "/usr/local/lib/python3.7/dist-packages/sklearn/utils/validation.py:760: DataConversionWarning: A column-vector y was passed when a 1d array was expected. Please change the shape of y to (n_samples, ), for example using ravel().\n",
            "  y = column_or_1d(y, warn=True)\n"
          ]
        },
        {
          "output_type": "stream",
          "name": "stdout",
          "text": [
            "adaboost_tree_regressor_depth-1_estimator-8_lr-1e-2.sav\n"
          ]
        },
        {
          "output_type": "stream",
          "name": "stderr",
          "text": [
            "/usr/local/lib/python3.7/dist-packages/sklearn/utils/validation.py:760: DataConversionWarning: A column-vector y was passed when a 1d array was expected. Please change the shape of y to (n_samples, ), for example using ravel().\n",
            "  y = column_or_1d(y, warn=True)\n"
          ]
        },
        {
          "output_type": "stream",
          "name": "stdout",
          "text": [
            "adaboost_tree_regressor_depth-1_estimator-8_lr-1e-3.sav\n"
          ]
        },
        {
          "output_type": "stream",
          "name": "stderr",
          "text": [
            "/usr/local/lib/python3.7/dist-packages/sklearn/utils/validation.py:760: DataConversionWarning: A column-vector y was passed when a 1d array was expected. Please change the shape of y to (n_samples, ), for example using ravel().\n",
            "  y = column_or_1d(y, warn=True)\n"
          ]
        },
        {
          "output_type": "stream",
          "name": "stdout",
          "text": [
            "adaboost_tree_regressor_depth-1_estimator-16_lr-1.sav\n"
          ]
        },
        {
          "output_type": "stream",
          "name": "stderr",
          "text": [
            "/usr/local/lib/python3.7/dist-packages/sklearn/utils/validation.py:760: DataConversionWarning: A column-vector y was passed when a 1d array was expected. Please change the shape of y to (n_samples, ), for example using ravel().\n",
            "  y = column_or_1d(y, warn=True)\n"
          ]
        },
        {
          "output_type": "stream",
          "name": "stdout",
          "text": [
            "adaboost_tree_regressor_depth-1_estimator-16_lr-1e-1.sav\n"
          ]
        },
        {
          "output_type": "stream",
          "name": "stderr",
          "text": [
            "/usr/local/lib/python3.7/dist-packages/sklearn/utils/validation.py:760: DataConversionWarning: A column-vector y was passed when a 1d array was expected. Please change the shape of y to (n_samples, ), for example using ravel().\n",
            "  y = column_or_1d(y, warn=True)\n"
          ]
        },
        {
          "output_type": "stream",
          "name": "stdout",
          "text": [
            "adaboost_tree_regressor_depth-1_estimator-16_lr-1e-2.sav\n"
          ]
        },
        {
          "output_type": "stream",
          "name": "stderr",
          "text": [
            "/usr/local/lib/python3.7/dist-packages/sklearn/utils/validation.py:760: DataConversionWarning: A column-vector y was passed when a 1d array was expected. Please change the shape of y to (n_samples, ), for example using ravel().\n",
            "  y = column_or_1d(y, warn=True)\n"
          ]
        },
        {
          "output_type": "stream",
          "name": "stdout",
          "text": [
            "adaboost_tree_regressor_depth-1_estimator-16_lr-1e-3.sav\n"
          ]
        },
        {
          "output_type": "stream",
          "name": "stderr",
          "text": [
            "/usr/local/lib/python3.7/dist-packages/sklearn/utils/validation.py:760: DataConversionWarning: A column-vector y was passed when a 1d array was expected. Please change the shape of y to (n_samples, ), for example using ravel().\n",
            "  y = column_or_1d(y, warn=True)\n"
          ]
        },
        {
          "output_type": "stream",
          "name": "stdout",
          "text": [
            "adaboost_tree_regressor_depth-1_estimator-32_lr-1.sav\n"
          ]
        },
        {
          "output_type": "stream",
          "name": "stderr",
          "text": [
            "/usr/local/lib/python3.7/dist-packages/sklearn/utils/validation.py:760: DataConversionWarning: A column-vector y was passed when a 1d array was expected. Please change the shape of y to (n_samples, ), for example using ravel().\n",
            "  y = column_or_1d(y, warn=True)\n"
          ]
        },
        {
          "output_type": "stream",
          "name": "stdout",
          "text": [
            "adaboost_tree_regressor_depth-1_estimator-32_lr-1e-1.sav\n"
          ]
        },
        {
          "output_type": "stream",
          "name": "stderr",
          "text": [
            "/usr/local/lib/python3.7/dist-packages/sklearn/utils/validation.py:760: DataConversionWarning: A column-vector y was passed when a 1d array was expected. Please change the shape of y to (n_samples, ), for example using ravel().\n",
            "  y = column_or_1d(y, warn=True)\n"
          ]
        },
        {
          "output_type": "stream",
          "name": "stdout",
          "text": [
            "adaboost_tree_regressor_depth-1_estimator-32_lr-1e-2.sav\n"
          ]
        },
        {
          "output_type": "stream",
          "name": "stderr",
          "text": [
            "/usr/local/lib/python3.7/dist-packages/sklearn/utils/validation.py:760: DataConversionWarning: A column-vector y was passed when a 1d array was expected. Please change the shape of y to (n_samples, ), for example using ravel().\n",
            "  y = column_or_1d(y, warn=True)\n"
          ]
        },
        {
          "output_type": "stream",
          "name": "stdout",
          "text": [
            "adaboost_tree_regressor_depth-1_estimator-32_lr-1e-3.sav\n"
          ]
        },
        {
          "output_type": "stream",
          "name": "stderr",
          "text": [
            "/usr/local/lib/python3.7/dist-packages/sklearn/utils/validation.py:760: DataConversionWarning: A column-vector y was passed when a 1d array was expected. Please change the shape of y to (n_samples, ), for example using ravel().\n",
            "  y = column_or_1d(y, warn=True)\n"
          ]
        },
        {
          "output_type": "stream",
          "name": "stdout",
          "text": [
            "adaboost_tree_regressor_depth-1_estimator-64_lr-1.sav\n"
          ]
        },
        {
          "output_type": "stream",
          "name": "stderr",
          "text": [
            "/usr/local/lib/python3.7/dist-packages/sklearn/utils/validation.py:760: DataConversionWarning: A column-vector y was passed when a 1d array was expected. Please change the shape of y to (n_samples, ), for example using ravel().\n",
            "  y = column_or_1d(y, warn=True)\n"
          ]
        },
        {
          "output_type": "stream",
          "name": "stdout",
          "text": [
            "adaboost_tree_regressor_depth-1_estimator-64_lr-1e-1.sav\n"
          ]
        },
        {
          "output_type": "stream",
          "name": "stderr",
          "text": [
            "/usr/local/lib/python3.7/dist-packages/sklearn/utils/validation.py:760: DataConversionWarning: A column-vector y was passed when a 1d array was expected. Please change the shape of y to (n_samples, ), for example using ravel().\n",
            "  y = column_or_1d(y, warn=True)\n"
          ]
        },
        {
          "output_type": "stream",
          "name": "stdout",
          "text": [
            "adaboost_tree_regressor_depth-1_estimator-64_lr-1e-2.sav\n"
          ]
        },
        {
          "output_type": "stream",
          "name": "stderr",
          "text": [
            "/usr/local/lib/python3.7/dist-packages/sklearn/utils/validation.py:760: DataConversionWarning: A column-vector y was passed when a 1d array was expected. Please change the shape of y to (n_samples, ), for example using ravel().\n",
            "  y = column_or_1d(y, warn=True)\n"
          ]
        },
        {
          "output_type": "stream",
          "name": "stdout",
          "text": [
            "adaboost_tree_regressor_depth-1_estimator-64_lr-1e-3.sav\n"
          ]
        },
        {
          "output_type": "stream",
          "name": "stderr",
          "text": [
            "/usr/local/lib/python3.7/dist-packages/sklearn/utils/validation.py:760: DataConversionWarning: A column-vector y was passed when a 1d array was expected. Please change the shape of y to (n_samples, ), for example using ravel().\n",
            "  y = column_or_1d(y, warn=True)\n"
          ]
        },
        {
          "output_type": "stream",
          "name": "stdout",
          "text": [
            "adaboost_tree_regressor_depth-1_estimator-128_lr-1.sav\n"
          ]
        },
        {
          "output_type": "stream",
          "name": "stderr",
          "text": [
            "/usr/local/lib/python3.7/dist-packages/sklearn/utils/validation.py:760: DataConversionWarning: A column-vector y was passed when a 1d array was expected. Please change the shape of y to (n_samples, ), for example using ravel().\n",
            "  y = column_or_1d(y, warn=True)\n"
          ]
        },
        {
          "output_type": "stream",
          "name": "stdout",
          "text": [
            "adaboost_tree_regressor_depth-1_estimator-128_lr-1e-1.sav\n"
          ]
        },
        {
          "output_type": "stream",
          "name": "stderr",
          "text": [
            "/usr/local/lib/python3.7/dist-packages/sklearn/utils/validation.py:760: DataConversionWarning: A column-vector y was passed when a 1d array was expected. Please change the shape of y to (n_samples, ), for example using ravel().\n",
            "  y = column_or_1d(y, warn=True)\n"
          ]
        },
        {
          "output_type": "stream",
          "name": "stdout",
          "text": [
            "adaboost_tree_regressor_depth-1_estimator-128_lr-1e-2.sav\n"
          ]
        },
        {
          "output_type": "stream",
          "name": "stderr",
          "text": [
            "/usr/local/lib/python3.7/dist-packages/sklearn/utils/validation.py:760: DataConversionWarning: A column-vector y was passed when a 1d array was expected. Please change the shape of y to (n_samples, ), for example using ravel().\n",
            "  y = column_or_1d(y, warn=True)\n"
          ]
        },
        {
          "output_type": "stream",
          "name": "stdout",
          "text": [
            "adaboost_tree_regressor_depth-1_estimator-128_lr-1e-3.sav\n"
          ]
        },
        {
          "output_type": "stream",
          "name": "stderr",
          "text": [
            "/usr/local/lib/python3.7/dist-packages/sklearn/utils/validation.py:760: DataConversionWarning: A column-vector y was passed when a 1d array was expected. Please change the shape of y to (n_samples, ), for example using ravel().\n",
            "  y = column_or_1d(y, warn=True)\n"
          ]
        },
        {
          "output_type": "stream",
          "name": "stdout",
          "text": [
            "adaboost_tree_regressor_depth-1_estimator-256_lr-1.sav\n"
          ]
        },
        {
          "output_type": "stream",
          "name": "stderr",
          "text": [
            "/usr/local/lib/python3.7/dist-packages/sklearn/utils/validation.py:760: DataConversionWarning: A column-vector y was passed when a 1d array was expected. Please change the shape of y to (n_samples, ), for example using ravel().\n",
            "  y = column_or_1d(y, warn=True)\n"
          ]
        },
        {
          "output_type": "stream",
          "name": "stdout",
          "text": [
            "adaboost_tree_regressor_depth-1_estimator-256_lr-1e-1.sav\n"
          ]
        },
        {
          "output_type": "stream",
          "name": "stderr",
          "text": [
            "/usr/local/lib/python3.7/dist-packages/sklearn/utils/validation.py:760: DataConversionWarning: A column-vector y was passed when a 1d array was expected. Please change the shape of y to (n_samples, ), for example using ravel().\n",
            "  y = column_or_1d(y, warn=True)\n"
          ]
        },
        {
          "output_type": "stream",
          "name": "stdout",
          "text": [
            "adaboost_tree_regressor_depth-1_estimator-256_lr-1e-2.sav\n"
          ]
        },
        {
          "output_type": "stream",
          "name": "stderr",
          "text": [
            "/usr/local/lib/python3.7/dist-packages/sklearn/utils/validation.py:760: DataConversionWarning: A column-vector y was passed when a 1d array was expected. Please change the shape of y to (n_samples, ), for example using ravel().\n",
            "  y = column_or_1d(y, warn=True)\n"
          ]
        },
        {
          "output_type": "stream",
          "name": "stdout",
          "text": [
            "adaboost_tree_regressor_depth-1_estimator-256_lr-1e-3.sav\n"
          ]
        },
        {
          "output_type": "stream",
          "name": "stderr",
          "text": [
            "/usr/local/lib/python3.7/dist-packages/sklearn/utils/validation.py:760: DataConversionWarning: A column-vector y was passed when a 1d array was expected. Please change the shape of y to (n_samples, ), for example using ravel().\n",
            "  y = column_or_1d(y, warn=True)\n"
          ]
        },
        {
          "output_type": "stream",
          "name": "stdout",
          "text": [
            "adaboost_tree_regressor_depth-1_estimator-512_lr-1.sav\n"
          ]
        },
        {
          "output_type": "stream",
          "name": "stderr",
          "text": [
            "/usr/local/lib/python3.7/dist-packages/sklearn/utils/validation.py:760: DataConversionWarning: A column-vector y was passed when a 1d array was expected. Please change the shape of y to (n_samples, ), for example using ravel().\n",
            "  y = column_or_1d(y, warn=True)\n"
          ]
        },
        {
          "output_type": "stream",
          "name": "stdout",
          "text": [
            "adaboost_tree_regressor_depth-1_estimator-512_lr-1e-1.sav\n"
          ]
        },
        {
          "output_type": "stream",
          "name": "stderr",
          "text": [
            "/usr/local/lib/python3.7/dist-packages/sklearn/utils/validation.py:760: DataConversionWarning: A column-vector y was passed when a 1d array was expected. Please change the shape of y to (n_samples, ), for example using ravel().\n",
            "  y = column_or_1d(y, warn=True)\n"
          ]
        },
        {
          "output_type": "stream",
          "name": "stdout",
          "text": [
            "adaboost_tree_regressor_depth-1_estimator-512_lr-1e-2.sav\n"
          ]
        },
        {
          "output_type": "stream",
          "name": "stderr",
          "text": [
            "/usr/local/lib/python3.7/dist-packages/sklearn/utils/validation.py:760: DataConversionWarning: A column-vector y was passed when a 1d array was expected. Please change the shape of y to (n_samples, ), for example using ravel().\n",
            "  y = column_or_1d(y, warn=True)\n"
          ]
        }
      ]
    },
    {
      "cell_type": "code",
      "metadata": {
        "id": "TMTV7b4aOAIj"
      },
      "source": [
        ""
      ],
      "execution_count": null,
      "outputs": []
    },
    {
      "cell_type": "code",
      "metadata": {
        "id": "-Mzy07rH1mUW"
      },
      "source": [
        " !zip -r /content/content1.zip /sequential_models\n",
        "\n",
        "from google.colab import files\n",
        "files.download(\"/content/content1.zip\")"
      ],
      "execution_count": null,
      "outputs": []
    },
    {
      "cell_type": "code",
      "metadata": {
        "colab": {
          "base_uri": "https://localhost:8080/",
          "height": 17
        },
        "id": "xs59-Y-fnWku",
        "outputId": "067507f2-5721-4afc-8e10-e643c95de6d6"
      },
      "source": [
        ""
      ],
      "execution_count": null,
      "outputs": [
        {
          "data": {
            "application/javascript": [
              "\n",
              "    async function download(id, filename, size) {\n",
              "      if (!google.colab.kernel.accessAllowed) {\n",
              "        return;\n",
              "      }\n",
              "      const div = document.createElement('div');\n",
              "      const label = document.createElement('label');\n",
              "      label.textContent = `Downloading \"${filename}\": `;\n",
              "      div.appendChild(label);\n",
              "      const progress = document.createElement('progress');\n",
              "      progress.max = size;\n",
              "      div.appendChild(progress);\n",
              "      document.body.appendChild(div);\n",
              "\n",
              "      const buffers = [];\n",
              "      let downloaded = 0;\n",
              "\n",
              "      const channel = await google.colab.kernel.comms.open(id);\n",
              "      // Send a message to notify the kernel that we're ready.\n",
              "      channel.send({})\n",
              "\n",
              "      for await (const message of channel.messages) {\n",
              "        // Send a message to notify the kernel that we're ready.\n",
              "        channel.send({})\n",
              "        if (message.buffers) {\n",
              "          for (const buffer of message.buffers) {\n",
              "            buffers.push(buffer);\n",
              "            downloaded += buffer.byteLength;\n",
              "            progress.value = downloaded;\n",
              "          }\n",
              "        }\n",
              "      }\n",
              "      const blob = new Blob(buffers, {type: 'application/binary'});\n",
              "      const a = document.createElement('a');\n",
              "      a.href = window.URL.createObjectURL(blob);\n",
              "      a.download = filename;\n",
              "      div.appendChild(a);\n",
              "      a.click();\n",
              "      div.remove();\n",
              "    }\n",
              "  "
            ],
            "text/plain": [
              "<IPython.core.display.Javascript object>"
            ]
          },
          "metadata": {
            "tags": []
          },
          "output_type": "display_data"
        },
        {
          "data": {
            "application/javascript": [
              "download(\"download_c466e3b8-71f5-413c-8ff1-bdd74cffcfa3\", \"content1.zip\", 231084990)"
            ],
            "text/plain": [
              "<IPython.core.display.Javascript object>"
            ]
          },
          "metadata": {
            "tags": []
          },
          "output_type": "display_data"
        }
      ]
    },
    {
      "cell_type": "code",
      "metadata": {
        "id": "FOHDi1IQn03O"
      },
      "source": [
        "import shutil\n",
        "shutil.rmtree('norm-cnn-2layer(from_4)-filter_lr_bs_50ep')\n",
        "shutil.rmtree('models')"
      ],
      "execution_count": null,
      "outputs": []
    },
    {
      "cell_type": "code",
      "metadata": {
        "id": "9ZHZODwJ6JyE"
      },
      "source": [
        ""
      ],
      "execution_count": null,
      "outputs": []
    }
  ]
}